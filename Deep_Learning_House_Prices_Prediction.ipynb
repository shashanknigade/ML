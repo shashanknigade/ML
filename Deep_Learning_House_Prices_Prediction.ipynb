{
  "nbformat": 4,
  "nbformat_minor": 0,
  "metadata": {
    "colab": {
      "name": "Copy of Exercise_1_House_Prices_Question.ipynb",
      "provenance": [],
      "collapsed_sections": [],
      "toc_visible": true
    },
    "kernelspec": {
      "display_name": "Python 3",
      "name": "python3"
    }
  },
  "cells": [
    {
      "cell_type": "code",
      "metadata": {
        "colab_type": "code",
        "id": "PUNO2E6SeURH",
        "colab": {}
      },
      "source": [
        "import tensorflow as tf\n",
        "import numpy as np\n",
        "from tensorflow import keras\n",
        "import pandas as pd\n",
        "import seaborn as sns\n",
        "import matplotlib.pyplot as plt\n",
        "from sklearn.preprocessing import StandardScaler\n",
        "from sklearn.model_selection import train_test_split\n",
        "from sklearn import decomposition"
      ],
      "execution_count": 42,
      "outputs": []
    },
    {
      "cell_type": "markdown",
      "metadata": {
        "id": "iCnAJZ4Ck2vZ",
        "colab_type": "text"
      },
      "source": [
        "# Read and Explore Data"
      ]
    },
    {
      "cell_type": "code",
      "metadata": {
        "id": "Cp1VcZAYke9-",
        "colab_type": "code",
        "colab": {}
      },
      "source": [
        "df = pd.read_csv('/content/sample_data/california_housing_train.csv')"
      ],
      "execution_count": 22,
      "outputs": []
    },
    {
      "cell_type": "code",
      "metadata": {
        "id": "cWOpmaufl_mf",
        "colab_type": "code",
        "colab": {
          "base_uri": "https://localhost:8080/",
          "height": 289
        },
        "outputId": "5e889408-2b57-49cb-cf90-c7308788756c"
      },
      "source": [
        "df.info()\n",
        "# No null values"
      ],
      "execution_count": 24,
      "outputs": [
        {
          "output_type": "stream",
          "text": [
            "<class 'pandas.core.frame.DataFrame'>\n",
            "RangeIndex: 17000 entries, 0 to 16999\n",
            "Data columns (total 9 columns):\n",
            " #   Column              Non-Null Count  Dtype  \n",
            "---  ------              --------------  -----  \n",
            " 0   longitude           17000 non-null  float64\n",
            " 1   latitude            17000 non-null  float64\n",
            " 2   housing_median_age  17000 non-null  float64\n",
            " 3   total_rooms         17000 non-null  float64\n",
            " 4   total_bedrooms      17000 non-null  float64\n",
            " 5   population          17000 non-null  float64\n",
            " 6   households          17000 non-null  float64\n",
            " 7   median_income       17000 non-null  float64\n",
            " 8   median_house_value  17000 non-null  float64\n",
            "dtypes: float64(9)\n",
            "memory usage: 1.2 MB\n"
          ],
          "name": "stdout"
        }
      ]
    },
    {
      "cell_type": "code",
      "metadata": {
        "id": "ETm18FKZkxMV",
        "colab_type": "code",
        "colab": {
          "base_uri": "https://localhost:8080/",
          "height": 224
        },
        "outputId": "1080edff-c301-478c-e86d-8c40e401aebb"
      },
      "source": [
        "df.head()"
      ],
      "execution_count": 25,
      "outputs": [
        {
          "output_type": "execute_result",
          "data": {
            "text/html": [
              "<div>\n",
              "<style scoped>\n",
              "    .dataframe tbody tr th:only-of-type {\n",
              "        vertical-align: middle;\n",
              "    }\n",
              "\n",
              "    .dataframe tbody tr th {\n",
              "        vertical-align: top;\n",
              "    }\n",
              "\n",
              "    .dataframe thead th {\n",
              "        text-align: right;\n",
              "    }\n",
              "</style>\n",
              "<table border=\"1\" class=\"dataframe\">\n",
              "  <thead>\n",
              "    <tr style=\"text-align: right;\">\n",
              "      <th></th>\n",
              "      <th>longitude</th>\n",
              "      <th>latitude</th>\n",
              "      <th>housing_median_age</th>\n",
              "      <th>total_rooms</th>\n",
              "      <th>total_bedrooms</th>\n",
              "      <th>population</th>\n",
              "      <th>households</th>\n",
              "      <th>median_income</th>\n",
              "      <th>median_house_value</th>\n",
              "    </tr>\n",
              "  </thead>\n",
              "  <tbody>\n",
              "    <tr>\n",
              "      <th>0</th>\n",
              "      <td>-114.31</td>\n",
              "      <td>34.19</td>\n",
              "      <td>15.0</td>\n",
              "      <td>5612.0</td>\n",
              "      <td>1283.0</td>\n",
              "      <td>1015.0</td>\n",
              "      <td>472.0</td>\n",
              "      <td>1.4936</td>\n",
              "      <td>66900.0</td>\n",
              "    </tr>\n",
              "    <tr>\n",
              "      <th>1</th>\n",
              "      <td>-114.47</td>\n",
              "      <td>34.40</td>\n",
              "      <td>19.0</td>\n",
              "      <td>7650.0</td>\n",
              "      <td>1901.0</td>\n",
              "      <td>1129.0</td>\n",
              "      <td>463.0</td>\n",
              "      <td>1.8200</td>\n",
              "      <td>80100.0</td>\n",
              "    </tr>\n",
              "    <tr>\n",
              "      <th>2</th>\n",
              "      <td>-114.56</td>\n",
              "      <td>33.69</td>\n",
              "      <td>17.0</td>\n",
              "      <td>720.0</td>\n",
              "      <td>174.0</td>\n",
              "      <td>333.0</td>\n",
              "      <td>117.0</td>\n",
              "      <td>1.6509</td>\n",
              "      <td>85700.0</td>\n",
              "    </tr>\n",
              "    <tr>\n",
              "      <th>3</th>\n",
              "      <td>-114.57</td>\n",
              "      <td>33.64</td>\n",
              "      <td>14.0</td>\n",
              "      <td>1501.0</td>\n",
              "      <td>337.0</td>\n",
              "      <td>515.0</td>\n",
              "      <td>226.0</td>\n",
              "      <td>3.1917</td>\n",
              "      <td>73400.0</td>\n",
              "    </tr>\n",
              "    <tr>\n",
              "      <th>4</th>\n",
              "      <td>-114.57</td>\n",
              "      <td>33.57</td>\n",
              "      <td>20.0</td>\n",
              "      <td>1454.0</td>\n",
              "      <td>326.0</td>\n",
              "      <td>624.0</td>\n",
              "      <td>262.0</td>\n",
              "      <td>1.9250</td>\n",
              "      <td>65500.0</td>\n",
              "    </tr>\n",
              "  </tbody>\n",
              "</table>\n",
              "</div>"
            ],
            "text/plain": [
              "   longitude  latitude  ...  median_income  median_house_value\n",
              "0    -114.31     34.19  ...         1.4936             66900.0\n",
              "1    -114.47     34.40  ...         1.8200             80100.0\n",
              "2    -114.56     33.69  ...         1.6509             85700.0\n",
              "3    -114.57     33.64  ...         3.1917             73400.0\n",
              "4    -114.57     33.57  ...         1.9250             65500.0\n",
              "\n",
              "[5 rows x 9 columns]"
            ]
          },
          "metadata": {
            "tags": []
          },
          "execution_count": 25
        }
      ]
    },
    {
      "cell_type": "markdown",
      "metadata": {
        "id": "4iJL3VFQ1cnm",
        "colab_type": "text"
      },
      "source": [
        "### Understanding output distribution"
      ]
    },
    {
      "cell_type": "code",
      "metadata": {
        "id": "D8CLRNYBmJfU",
        "colab_type": "code",
        "colab": {
          "base_uri": "https://localhost:8080/",
          "height": 170
        },
        "outputId": "710adacb-0df3-4940-d1e6-8b0b026bfd2c"
      },
      "source": [
        "df['median_house_value'].describe()"
      ],
      "execution_count": 26,
      "outputs": [
        {
          "output_type": "execute_result",
          "data": {
            "text/plain": [
              "count     17000.000000\n",
              "mean     207300.912353\n",
              "std      115983.764387\n",
              "min       14999.000000\n",
              "25%      119400.000000\n",
              "50%      180400.000000\n",
              "75%      265000.000000\n",
              "max      500001.000000\n",
              "Name: median_house_value, dtype: float64"
            ]
          },
          "metadata": {
            "tags": []
          },
          "execution_count": 26
        }
      ]
    },
    {
      "cell_type": "code",
      "metadata": {
        "id": "lQGmpZwtybqH",
        "colab_type": "code",
        "colab": {
          "base_uri": "https://localhost:8080/",
          "height": 352
        },
        "outputId": "5efa2f3d-a079-4a4b-e0d5-93b46fb8ddfa"
      },
      "source": [
        "plt.hist(df['median_house_value'],bins=10)\n",
        "# Majority of output points are distributed between 50K - 250K"
      ],
      "execution_count": 27,
      "outputs": [
        {
          "output_type": "execute_result",
          "data": {
            "text/plain": [
              "(array([ 731., 2958., 3362., 3127., 2291., 1426., 1036.,  629.,  395.,\n",
              "        1045.]),\n",
              " array([ 14999. ,  63499.2, 111999.4, 160499.6, 208999.8, 257500. ,\n",
              "        306000.2, 354500.4, 403000.6, 451500.8, 500001. ]),\n",
              " <a list of 10 Patch objects>)"
            ]
          },
          "metadata": {
            "tags": []
          },
          "execution_count": 27
        },
        {
          "output_type": "display_data",
          "data": {
            "image/png": "[encoded data removed]",
            "text/plain": [
              "<Figure size 432x288 with 1 Axes>"
            ]
          },
          "metadata": {
            "tags": [],
            "needs_background": "light"
          }
        }
      ]
    },
    {
      "cell_type": "markdown",
      "metadata": {
        "id": "YnLoJ-xj1Kq_",
        "colab_type": "text"
      },
      "source": [
        "### Checking feature impact on output"
      ]
    },
    {
      "cell_type": "code",
      "metadata": {
        "id": "BHy7lTHAz6wh",
        "colab_type": "code",
        "colab": {
          "base_uri": "https://localhost:8080/",
          "height": 297
        },
        "outputId": "42493c0a-0c1c-45f9-b4e9-39e7f191b964"
      },
      "source": [
        "# Distribution of house price based on location of house\n",
        "sns.scatterplot(x='latitude',y='longitude',hue='median_house_value',data=df, size='median_house_value')"
      ],
      "execution_count": 30,
      "outputs": [
        {
          "output_type": "execute_result",
          "data": {
            "text/plain": [
              "<matplotlib.axes._subplots.AxesSubplot at 0x7f32888747b8>"
            ]
          },
          "metadata": {
            "tags": []
          },
          "execution_count": 30
        },
        {
          "output_type": "display_data",
          "data": {
            "image/png": "[encoded data removed]",
            "text/plain": [
              "<Figure size 432x288 with 1 Axes>"
            ]
          },
          "metadata": {
            "tags": [],
            "needs_background": "light"
          }
        }
      ]
    },
    {
      "cell_type": "markdown",
      "metadata": {
        "id": "UdReyU9E2wkZ",
        "colab_type": "text"
      },
      "source": [
        "### Analysing feature correlations"
      ]
    },
    {
      "cell_type": "code",
      "metadata": {
        "id": "AQL2et31nzgE",
        "colab_type": "code",
        "colab": {
          "base_uri": "https://localhost:8080/",
          "height": 348
        },
        "outputId": "97235035-2aeb-4b70-de38-21d533cd407b"
      },
      "source": [
        "# Find the correlation inbetween columns\n",
        "df.corr()"
      ],
      "execution_count": 32,
      "outputs": [
        {
          "output_type": "execute_result",
          "data": {
            "text/html": [
              "<div>\n",
              "<style scoped>\n",
              "    .dataframe tbody tr th:only-of-type {\n",
              "        vertical-align: middle;\n",
              "    }\n",
              "\n",
              "    .dataframe tbody tr th {\n",
              "        vertical-align: top;\n",
              "    }\n",
              "\n",
              "    .dataframe thead th {\n",
              "        text-align: right;\n",
              "    }\n",
              "</style>\n",
              "<table border=\"1\" class=\"dataframe\">\n",
              "  <thead>\n",
              "    <tr style=\"text-align: right;\">\n",
              "      <th></th>\n",
              "      <th>longitude</th>\n",
              "      <th>latitude</th>\n",
              "      <th>housing_median_age</th>\n",
              "      <th>total_rooms</th>\n",
              "      <th>total_bedrooms</th>\n",
              "      <th>population</th>\n",
              "      <th>households</th>\n",
              "      <th>median_income</th>\n",
              "      <th>median_house_value</th>\n",
              "    </tr>\n",
              "  </thead>\n",
              "  <tbody>\n",
              "    <tr>\n",
              "      <th>longitude</th>\n",
              "      <td>1.000000</td>\n",
              "      <td>-0.925208</td>\n",
              "      <td>-0.114250</td>\n",
              "      <td>0.047010</td>\n",
              "      <td>0.071802</td>\n",
              "      <td>0.101674</td>\n",
              "      <td>0.059628</td>\n",
              "      <td>-0.015485</td>\n",
              "      <td>-0.044982</td>\n",
              "    </tr>\n",
              "    <tr>\n",
              "      <th>latitude</th>\n",
              "      <td>-0.925208</td>\n",
              "      <td>1.000000</td>\n",
              "      <td>0.016454</td>\n",
              "      <td>-0.038773</td>\n",
              "      <td>-0.069373</td>\n",
              "      <td>-0.111261</td>\n",
              "      <td>-0.074902</td>\n",
              "      <td>-0.080303</td>\n",
              "      <td>-0.144917</td>\n",
              "    </tr>\n",
              "    <tr>\n",
              "      <th>housing_median_age</th>\n",
              "      <td>-0.114250</td>\n",
              "      <td>0.016454</td>\n",
              "      <td>1.000000</td>\n",
              "      <td>-0.360984</td>\n",
              "      <td>-0.320434</td>\n",
              "      <td>-0.295890</td>\n",
              "      <td>-0.302754</td>\n",
              "      <td>-0.115932</td>\n",
              "      <td>0.106758</td>\n",
              "    </tr>\n",
              "    <tr>\n",
              "      <th>total_rooms</th>\n",
              "      <td>0.047010</td>\n",
              "      <td>-0.038773</td>\n",
              "      <td>-0.360984</td>\n",
              "      <td>1.000000</td>\n",
              "      <td>0.928403</td>\n",
              "      <td>0.860170</td>\n",
              "      <td>0.919018</td>\n",
              "      <td>0.195383</td>\n",
              "      <td>0.130991</td>\n",
              "    </tr>\n",
              "    <tr>\n",
              "      <th>total_bedrooms</th>\n",
              "      <td>0.071802</td>\n",
              "      <td>-0.069373</td>\n",
              "      <td>-0.320434</td>\n",
              "      <td>0.928403</td>\n",
              "      <td>1.000000</td>\n",
              "      <td>0.881169</td>\n",
              "      <td>0.980920</td>\n",
              "      <td>-0.013495</td>\n",
              "      <td>0.045783</td>\n",
              "    </tr>\n",
              "    <tr>\n",
              "      <th>population</th>\n",
              "      <td>0.101674</td>\n",
              "      <td>-0.111261</td>\n",
              "      <td>-0.295890</td>\n",
              "      <td>0.860170</td>\n",
              "      <td>0.881169</td>\n",
              "      <td>1.000000</td>\n",
              "      <td>0.909247</td>\n",
              "      <td>-0.000638</td>\n",
              "      <td>-0.027850</td>\n",
              "    </tr>\n",
              "    <tr>\n",
              "      <th>households</th>\n",
              "      <td>0.059628</td>\n",
              "      <td>-0.074902</td>\n",
              "      <td>-0.302754</td>\n",
              "      <td>0.919018</td>\n",
              "      <td>0.980920</td>\n",
              "      <td>0.909247</td>\n",
              "      <td>1.000000</td>\n",
              "      <td>0.007644</td>\n",
              "      <td>0.061031</td>\n",
              "    </tr>\n",
              "    <tr>\n",
              "      <th>median_income</th>\n",
              "      <td>-0.015485</td>\n",
              "      <td>-0.080303</td>\n",
              "      <td>-0.115932</td>\n",
              "      <td>0.195383</td>\n",
              "      <td>-0.013495</td>\n",
              "      <td>-0.000638</td>\n",
              "      <td>0.007644</td>\n",
              "      <td>1.000000</td>\n",
              "      <td>0.691871</td>\n",
              "    </tr>\n",
              "    <tr>\n",
              "      <th>median_house_value</th>\n",
              "      <td>-0.044982</td>\n",
              "      <td>-0.144917</td>\n",
              "      <td>0.106758</td>\n",
              "      <td>0.130991</td>\n",
              "      <td>0.045783</td>\n",
              "      <td>-0.027850</td>\n",
              "      <td>0.061031</td>\n",
              "      <td>0.691871</td>\n",
              "      <td>1.000000</td>\n",
              "    </tr>\n",
              "  </tbody>\n",
              "</table>\n",
              "</div>"
            ],
            "text/plain": [
              "                    longitude  latitude  ...  median_income  median_house_value\n",
              "longitude            1.000000 -0.925208  ...      -0.015485           -0.044982\n",
              "latitude            -0.925208  1.000000  ...      -0.080303           -0.144917\n",
              "housing_median_age  -0.114250  0.016454  ...      -0.115932            0.106758\n",
              "total_rooms          0.047010 -0.038773  ...       0.195383            0.130991\n",
              "total_bedrooms       0.071802 -0.069373  ...      -0.013495            0.045783\n",
              "population           0.101674 -0.111261  ...      -0.000638           -0.027850\n",
              "households           0.059628 -0.074902  ...       0.007644            0.061031\n",
              "median_income       -0.015485 -0.080303  ...       1.000000            0.691871\n",
              "median_house_value  -0.044982 -0.144917  ...       0.691871            1.000000\n",
              "\n",
              "[9 rows x 9 columns]"
            ]
          },
          "metadata": {
            "tags": []
          },
          "execution_count": 32
        }
      ]
    },
    {
      "cell_type": "code",
      "metadata": {
        "id": "st6R6Kn5sDuF",
        "colab_type": "code",
        "colab": {
          "base_uri": "https://localhost:8080/",
          "height": 382
        },
        "outputId": "8f6d1fb1-47f6-493c-9364-8f4f2ea479cb"
      },
      "source": [
        "sns.heatmap(df.corr(),cmap='coolwarm')"
      ],
      "execution_count": 33,
      "outputs": [
        {
          "output_type": "execute_result",
          "data": {
            "text/plain": [
              "<matplotlib.axes._subplots.AxesSubplot at 0x7f3288770dd8>"
            ]
          },
          "metadata": {
            "tags": []
          },
          "execution_count": 33
        },
        {
          "output_type": "display_data",
          "data": {
            "image/png": "[encoded data removed]",
            "text/plain": [
              "<Figure size 432x288 with 2 Axes>"
            ]
          },
          "metadata": {
            "tags": [],
            "needs_background": "light"
          }
        }
      ]
    },
    {
      "cell_type": "markdown",
      "metadata": {
        "id": "aJcdoeafqDP8",
        "colab_type": "text"
      },
      "source": [
        "Based on the correlation, we see that\n",
        "1. total_rooms and total_bedrooms are highly correlelated and we should only keep 1 of them. total_rooms has more impact on the output \"medial_house_value\" hence lets keep that column\n"
      ]
    },
    {
      "cell_type": "markdown",
      "metadata": {
        "id": "a1BfGHAzsylc",
        "colab_type": "text"
      },
      "source": [
        "# Data Cleaning"
      ]
    },
    {
      "cell_type": "code",
      "metadata": {
        "id": "0Z-mzliJppm-",
        "colab_type": "code",
        "colab": {}
      },
      "source": [
        "df.drop(['total_bedrooms'],axis=1,inplace=True)"
      ],
      "execution_count": 34,
      "outputs": []
    },
    {
      "cell_type": "code",
      "metadata": {
        "id": "tSpqEBxFsxVz",
        "colab_type": "code",
        "colab": {
          "base_uri": "https://localhost:8080/",
          "height": 68
        },
        "outputId": "b85261ad-a8c5-4264-83c6-dda241834d57"
      },
      "source": [
        "df.columns"
      ],
      "execution_count": 46,
      "outputs": [
        {
          "output_type": "execute_result",
          "data": {
            "text/plain": [
              "Index(['longitude', 'latitude', 'housing_median_age', 'total_rooms',\n",
              "       'population', 'households', 'median_income', 'median_house_value'],\n",
              "      dtype='object')"
            ]
          },
          "metadata": {
            "tags": []
          },
          "execution_count": 46
        }
      ]
    },
    {
      "cell_type": "markdown",
      "metadata": {
        "id": "ABAJ8Myi2_cM",
        "colab_type": "text"
      },
      "source": [
        "### Scaling the input"
      ]
    },
    {
      "cell_type": "code",
      "metadata": {
        "id": "Uudo06yFs2xD",
        "colab_type": "code",
        "colab": {}
      },
      "source": [
        "ss = StandardScaler()"
      ],
      "execution_count": 47,
      "outputs": []
    },
    {
      "cell_type": "code",
      "metadata": {
        "id": "l29Op8-WtTpS",
        "colab_type": "code",
        "colab": {}
      },
      "source": [
        "x = ss.fit_transform(df.drop('median_house_value',axis=1))"
      ],
      "execution_count": 48,
      "outputs": []
    },
    {
      "cell_type": "code",
      "metadata": {
        "id": "HqUSmkVNtwYR",
        "colab_type": "code",
        "colab": {
          "base_uri": "https://localhost:8080/",
          "height": 34
        },
        "outputId": "65140fd5-aa14-4e69-b531-1ed99de466d3"
      },
      "source": [
        "#x = df.to_numpy()\n",
        "#x = x[:,:-1]\n",
        "x.shape"
      ],
      "execution_count": 49,
      "outputs": [
        {
          "output_type": "execute_result",
          "data": {
            "text/plain": [
              "(17000, 7)"
            ]
          },
          "metadata": {
            "tags": []
          },
          "execution_count": 49
        }
      ]
    },
    {
      "cell_type": "code",
      "metadata": {
        "id": "YLQAqGoVtglb",
        "colab_type": "code",
        "colab": {}
      },
      "source": [
        "y = df['median_house_value']"
      ],
      "execution_count": 50,
      "outputs": []
    },
    {
      "cell_type": "code",
      "metadata": {
        "id": "m34VsFWBtizI",
        "colab_type": "code",
        "colab": {}
      },
      "source": [
        "y = y.to_numpy()"
      ],
      "execution_count": 51,
      "outputs": []
    },
    {
      "cell_type": "code",
      "metadata": {
        "id": "bo_Fsv0jtqoF",
        "colab_type": "code",
        "colab": {}
      },
      "source": [
        "x_train, x_test, y_train, y_test = train_test_split(x,y,test_size=0.3)"
      ],
      "execution_count": 52,
      "outputs": []
    },
    {
      "cell_type": "code",
      "metadata": {
        "id": "Ovou0DbUwT1_",
        "colab_type": "code",
        "colab": {
          "base_uri": "https://localhost:8080/",
          "height": 85
        },
        "outputId": "42cdf71a-8699-4bc5-a070-71d4a63812d5"
      },
      "source": [
        "print(f'Training data set x is of size {x_train.shape}')\n",
        "print(f'Training data set y is of size {y_train.shape}')\n",
        "print(f'Testing data set x is of sixze {x_test.shape}')\n",
        "print(f'Testing data set y is of size {y_test.shape}')"
      ],
      "execution_count": 53,
      "outputs": [
        {
          "output_type": "stream",
          "text": [
            "Training data set x is of size (11900, 7)\n",
            "Training data set y is of size (11900,)\n",
            "Testing data set x is of sixze (5100, 7)\n",
            "Testing data set y is of size (5100,)\n"
          ],
          "name": "stdout"
        }
      ]
    },
    {
      "cell_type": "markdown",
      "metadata": {
        "id": "hMK4ZFwDwusN",
        "colab_type": "text"
      },
      "source": [
        "# Deep Learning using Keras"
      ]
    },
    {
      "cell_type": "markdown",
      "metadata": {
        "id": "JgnakokU6QWb",
        "colab_type": "text"
      },
      "source": [
        "### Model configuration"
      ]
    },
    {
      "cell_type": "code",
      "metadata": {
        "id": "NGjGJguUwuH9",
        "colab_type": "code",
        "colab": {}
      },
      "source": [
        "seq_model = keras.Sequential()\n",
        "seq_model.add(keras.layers.Dense(7,input_shape=(7,),activation='relu'))\n",
        "seq_model.add(keras.layers.Dense(4, activation='relu'))\n",
        "seq_model.add(keras.layers.Dense(2,activation='relu'))\n",
        "#seq_model.add(keras.layers.Dense(4))\n",
        "seq_model.add(keras.layers.Dense(1,activation='relu'))"
      ],
      "execution_count": 54,
      "outputs": []
    },
    {
      "cell_type": "code",
      "metadata": {
        "id": "sng7Yl_v_J4r",
        "colab_type": "code",
        "colab": {
          "base_uri": "https://localhost:8080/",
          "height": 289
        },
        "outputId": "21f9f088-a6cf-4e34-e939-aa314367ab28"
      },
      "source": [
        "seq_model.summary()"
      ],
      "execution_count": 55,
      "outputs": [
        {
          "output_type": "stream",
          "text": [
            "Model: \"sequential\"\n",
            "_________________________________________________________________\n",
            "Layer (type)                 Output Shape              Param #   \n",
            "=================================================================\n",
            "dense (Dense)                (None, 7)                 56        \n",
            "_________________________________________________________________\n",
            "dense_1 (Dense)              (None, 4)                 32        \n",
            "_________________________________________________________________\n",
            "dense_2 (Dense)              (None, 2)                 10        \n",
            "_________________________________________________________________\n",
            "dense_3 (Dense)              (None, 1)                 3         \n",
            "=================================================================\n",
            "Total params: 101\n",
            "Trainable params: 101\n",
            "Non-trainable params: 0\n",
            "_________________________________________________________________\n"
          ],
          "name": "stdout"
        }
      ]
    },
    {
      "cell_type": "code",
      "metadata": {
        "id": "i7WNyHYh0TT0",
        "colab_type": "code",
        "colab": {}
      },
      "source": [
        "seq_model.compile(optimizer='adam',loss='mse')"
      ],
      "execution_count": 56,
      "outputs": []
    },
    {
      "cell_type": "code",
      "metadata": {
        "id": "H6xzb3UHCTXA",
        "colab_type": "code",
        "colab": {
          "base_uri": "https://localhost:8080/",
          "height": 466
        },
        "outputId": "3b6d1ac3-15f0-48a6-fb24-7985b6aaad75"
      },
      "source": [
        "from keras.utils import plot_model\n",
        "plot_model(seq_model)"
      ],
      "execution_count": 57,
      "outputs": [
        {
          "output_type": "execute_result",
          "data": {
            "image/png": "[encoded data removed]",
            "text/plain": [
              "<IPython.core.display.Image object>"
            ]
          },
          "metadata": {
            "tags": []
          },
          "execution_count": 57
        }
      ]
    },
    {
      "cell_type": "code",
      "metadata": {
        "id": "ejOZm1aiDpfp",
        "colab_type": "code",
        "colab": {}
      },
      "source": [
        "#type(y_train)\n",
        "#type(x_train)"
      ],
      "execution_count": 58,
      "outputs": []
    },
    {
      "cell_type": "markdown",
      "metadata": {
        "id": "jKz9euth6VfZ",
        "colab_type": "text"
      },
      "source": [
        "### Training the model"
      ]
    },
    {
      "cell_type": "code",
      "metadata": {
        "id": "e3ey6ja11X3g",
        "colab_type": "code",
        "colab": {
          "base_uri": "https://localhost:8080/",
          "height": 1000
        },
        "outputId": "181b5801-a6bb-46c0-ada6-f9b2c77bf63e"
      },
      "source": [
        "history = seq_model.fit(x_train,y_train,epochs=200,validation_data=(x_test, y_test))"
      ],
      "execution_count": 59,
      "outputs": [
        {
          "output_type": "stream",
          "text": [
            "Epoch 1/200\n",
            "372/372 [==============================] - 1s 1ms/step - loss: 56801992704.0000 - val_loss: 55535362048.0000\n",
            "Epoch 2/200\n",
            "372/372 [==============================] - 0s 1ms/step - loss: 56767651840.0000 - val_loss: 55451881472.0000\n",
            "Epoch 3/200\n",
            "372/372 [==============================] - 0s 1ms/step - loss: 56571273216.0000 - val_loss: 55118614528.0000\n",
            "Epoch 4/200\n",
            "372/372 [==============================] - 0s 1ms/step - loss: 56020602880.0000 - val_loss: 54342529024.0000\n",
            "Epoch 5/200\n",
            "372/372 [==============================] - 0s 1ms/step - loss: 54916771840.0000 - val_loss: 52937351168.0000\n",
            "Epoch 6/200\n",
            "372/372 [==============================] - 0s 1ms/step - loss: 53094277120.0000 - val_loss: 50759757824.0000\n",
            "Epoch 7/200\n",
            "372/372 [==============================] - 0s 1ms/step - loss: 50448564224.0000 - val_loss: 47758819328.0000\n",
            "Epoch 8/200\n",
            "372/372 [==============================] - 0s 1ms/step - loss: 46945939456.0000 - val_loss: 43923046400.0000\n",
            "Epoch 9/200\n",
            "372/372 [==============================] - 0s 1ms/step - loss: 42651561984.0000 - val_loss: 39378653184.0000\n",
            "Epoch 10/200\n",
            "372/372 [==============================] - 0s 1ms/step - loss: 37765861376.0000 - val_loss: 34388606976.0000\n",
            "Epoch 11/200\n",
            "372/372 [==============================] - 0s 1ms/step - loss: 32597399552.0000 - val_loss: 29264386048.0000\n",
            "Epoch 12/200\n",
            "372/372 [==============================] - 0s 1ms/step - loss: 27489804288.0000 - val_loss: 24360366080.0000\n",
            "Epoch 13/200\n",
            "372/372 [==============================] - 0s 1ms/step - loss: 22809155584.0000 - val_loss: 20036069376.0000\n",
            "Epoch 14/200\n",
            "372/372 [==============================] - 0s 1ms/step - loss: 18876971008.0000 - val_loss: 16563553280.0000\n",
            "Epoch 15/200\n",
            "372/372 [==============================] - 0s 1ms/step - loss: 15891903488.0000 - val_loss: 14050356224.0000\n",
            "Epoch 16/200\n",
            "372/372 [==============================] - 0s 1ms/step - loss: 13845353472.0000 - val_loss: 12395435008.0000\n",
            "Epoch 17/200\n",
            "372/372 [==============================] - 0s 1ms/step - loss: 12559837184.0000 - val_loss: 11379389440.0000\n",
            "Epoch 18/200\n",
            "372/372 [==============================] - 0s 1ms/step - loss: 11763670016.0000 - val_loss: 10723628032.0000\n",
            "Epoch 19/200\n",
            "372/372 [==============================] - 0s 1ms/step - loss: 11235986432.0000 - val_loss: 10268666880.0000\n",
            "Epoch 20/200\n",
            "372/372 [==============================] - 0s 1ms/step - loss: 10842339328.0000 - val_loss: 9913780224.0000\n",
            "Epoch 21/200\n",
            "372/372 [==============================] - 0s 1ms/step - loss: 10509103104.0000 - val_loss: 9604912128.0000\n",
            "Epoch 22/200\n",
            "372/372 [==============================] - 0s 1ms/step - loss: 10211316736.0000 - val_loss: 9333997568.0000\n",
            "Epoch 23/200\n",
            "372/372 [==============================] - 0s 1ms/step - loss: 9935384576.0000 - val_loss: 9079326720.0000\n",
            "Epoch 24/200\n",
            "372/372 [==============================] - 0s 1ms/step - loss: 9672921088.0000 - val_loss: 8838008832.0000\n",
            "Epoch 25/200\n",
            "372/372 [==============================] - 0s 1ms/step - loss: 9424430080.0000 - val_loss: 8613168128.0000\n",
            "Epoch 26/200\n",
            "372/372 [==============================] - 0s 1ms/step - loss: 9187205120.0000 - val_loss: 8396750848.0000\n",
            "Epoch 27/200\n",
            "372/372 [==============================] - 0s 1ms/step - loss: 8960498688.0000 - val_loss: 8195204608.0000\n",
            "Epoch 28/200\n",
            "372/372 [==============================] - 0s 1ms/step - loss: 8746222592.0000 - val_loss: 8002351104.0000\n",
            "Epoch 29/200\n",
            "372/372 [==============================] - 0s 1ms/step - loss: 8539614720.0000 - val_loss: 7822259200.0000\n",
            "Epoch 30/200\n",
            "372/372 [==============================] - 0s 1ms/step - loss: 8341652480.0000 - val_loss: 7643173376.0000\n",
            "Epoch 31/200\n",
            "372/372 [==============================] - 0s 1ms/step - loss: 8151152128.0000 - val_loss: 7474332160.0000\n",
            "Epoch 32/200\n",
            "372/372 [==============================] - 0s 1ms/step - loss: 7968929280.0000 - val_loss: 7317733888.0000\n",
            "Epoch 33/200\n",
            "372/372 [==============================] - 0s 1ms/step - loss: 7793069056.0000 - val_loss: 7164815360.0000\n",
            "Epoch 34/200\n",
            "372/372 [==============================] - 0s 1ms/step - loss: 7626135040.0000 - val_loss: 7018430976.0000\n",
            "Epoch 35/200\n",
            "372/372 [==============================] - 0s 1ms/step - loss: 7463868928.0000 - val_loss: 6880954880.0000\n",
            "Epoch 36/200\n",
            "372/372 [==============================] - 0s 1ms/step - loss: 7311278080.0000 - val_loss: 6750960128.0000\n",
            "Epoch 37/200\n",
            "372/372 [==============================] - 0s 1ms/step - loss: 7165462016.0000 - val_loss: 6628912640.0000\n",
            "Epoch 38/200\n",
            "372/372 [==============================] - 0s 1ms/step - loss: 7026752000.0000 - val_loss: 6509542912.0000\n",
            "Epoch 39/200\n",
            "372/372 [==============================] - 0s 1ms/step - loss: 6895510016.0000 - val_loss: 6402423808.0000\n",
            "Epoch 40/200\n",
            "372/372 [==============================] - 0s 1ms/step - loss: 6770042368.0000 - val_loss: 6298935808.0000\n",
            "Epoch 41/200\n",
            "372/372 [==============================] - 0s 1ms/step - loss: 6652469760.0000 - val_loss: 6201315328.0000\n",
            "Epoch 42/200\n",
            "372/372 [==============================] - 0s 1ms/step - loss: 6539213312.0000 - val_loss: 6106817536.0000\n",
            "Epoch 43/200\n",
            "372/372 [==============================] - 0s 1ms/step - loss: 6432086528.0000 - val_loss: 6018206720.0000\n",
            "Epoch 44/200\n",
            "372/372 [==============================] - 0s 1ms/step - loss: 6329255424.0000 - val_loss: 5937121280.0000\n",
            "Epoch 45/200\n",
            "372/372 [==============================] - 0s 1ms/step - loss: 6232318976.0000 - val_loss: 5857092608.0000\n",
            "Epoch 46/200\n",
            "372/372 [==============================] - 0s 1ms/step - loss: 6140950528.0000 - val_loss: 5783221248.0000\n",
            "Epoch 47/200\n",
            "372/372 [==============================] - 0s 1ms/step - loss: 6055457792.0000 - val_loss: 5712419840.0000\n",
            "Epoch 48/200\n",
            "372/372 [==============================] - 0s 1ms/step - loss: 5976903680.0000 - val_loss: 5647272960.0000\n",
            "Epoch 49/200\n",
            "372/372 [==============================] - 0s 1ms/step - loss: 5902509568.0000 - val_loss: 5585995264.0000\n",
            "Epoch 50/200\n",
            "372/372 [==============================] - 0s 1ms/step - loss: 5831961600.0000 - val_loss: 5526623232.0000\n",
            "Epoch 51/200\n",
            "372/372 [==============================] - 0s 1ms/step - loss: 5768434176.0000 - val_loss: 5474215424.0000\n",
            "Epoch 52/200\n",
            "372/372 [==============================] - 0s 1ms/step - loss: 5706936320.0000 - val_loss: 5423405568.0000\n",
            "Epoch 53/200\n",
            "372/372 [==============================] - 0s 1ms/step - loss: 5649187840.0000 - val_loss: 5374840320.0000\n",
            "Epoch 54/200\n",
            "372/372 [==============================] - 0s 1ms/step - loss: 5595086848.0000 - val_loss: 5326722560.0000\n",
            "Epoch 55/200\n",
            "372/372 [==============================] - 0s 1ms/step - loss: 5543577088.0000 - val_loss: 5283776000.0000\n",
            "Epoch 56/200\n",
            "372/372 [==============================] - 0s 1ms/step - loss: 5494966784.0000 - val_loss: 5243492864.0000\n",
            "Epoch 57/200\n",
            "372/372 [==============================] - 0s 1ms/step - loss: 5449871872.0000 - val_loss: 5204755968.0000\n",
            "Epoch 58/200\n",
            "372/372 [==============================] - 0s 1ms/step - loss: 5406919680.0000 - val_loss: 5169348096.0000\n",
            "Epoch 59/200\n",
            "372/372 [==============================] - 0s 1ms/step - loss: 5368111104.0000 - val_loss: 5134255104.0000\n",
            "Epoch 60/200\n",
            "372/372 [==============================] - 0s 1ms/step - loss: 5330110464.0000 - val_loss: 5101286400.0000\n",
            "Epoch 61/200\n",
            "372/372 [==============================] - 0s 1ms/step - loss: 5294377984.0000 - val_loss: 5069136384.0000\n",
            "Epoch 62/200\n",
            "372/372 [==============================] - 0s 1ms/step - loss: 5261515264.0000 - val_loss: 5040687104.0000\n",
            "Epoch 63/200\n",
            "372/372 [==============================] - 0s 1ms/step - loss: 5229000192.0000 - val_loss: 5011206656.0000\n",
            "Epoch 64/200\n",
            "372/372 [==============================] - 0s 1ms/step - loss: 5198620160.0000 - val_loss: 4982409728.0000\n",
            "Epoch 65/200\n",
            "372/372 [==============================] - 0s 1ms/step - loss: 5169118208.0000 - val_loss: 4956219904.0000\n",
            "Epoch 66/200\n",
            "372/372 [==============================] - 0s 1ms/step - loss: 5141929984.0000 - val_loss: 4930598912.0000\n",
            "Epoch 67/200\n",
            "372/372 [==============================] - 0s 1ms/step - loss: 5114902016.0000 - val_loss: 4906896384.0000\n",
            "Epoch 68/200\n",
            "372/372 [==============================] - 0s 1ms/step - loss: 5090097152.0000 - val_loss: 4882107392.0000\n",
            "Epoch 69/200\n",
            "372/372 [==============================] - 0s 1ms/step - loss: 5065699328.0000 - val_loss: 4859599872.0000\n",
            "Epoch 70/200\n",
            "372/372 [==============================] - 0s 1ms/step - loss: 5043289088.0000 - val_loss: 4838920704.0000\n",
            "Epoch 71/200\n",
            "372/372 [==============================] - 0s 1ms/step - loss: 5020297216.0000 - val_loss: 4816892928.0000\n",
            "Epoch 72/200\n",
            "372/372 [==============================] - 0s 1ms/step - loss: 4999162880.0000 - val_loss: 4797017088.0000\n",
            "Epoch 73/200\n",
            "372/372 [==============================] - 0s 1ms/step - loss: 4979432960.0000 - val_loss: 4778498048.0000\n",
            "Epoch 74/200\n",
            "372/372 [==============================] - 0s 1ms/step - loss: 4959432704.0000 - val_loss: 4758831616.0000\n",
            "Epoch 75/200\n",
            "372/372 [==============================] - 0s 1ms/step - loss: 4941023232.0000 - val_loss: 4740583424.0000\n",
            "Epoch 76/200\n",
            "372/372 [==============================] - 0s 1ms/step - loss: 4923608064.0000 - val_loss: 4725405696.0000\n",
            "Epoch 77/200\n",
            "372/372 [==============================] - 0s 1ms/step - loss: 4906812416.0000 - val_loss: 4707771392.0000\n",
            "Epoch 78/200\n",
            "372/372 [==============================] - 0s 1ms/step - loss: 4891417600.0000 - val_loss: 4693185024.0000\n",
            "Epoch 79/200\n",
            "372/372 [==============================] - 0s 1ms/step - loss: 4875788288.0000 - val_loss: 4678899712.0000\n",
            "Epoch 80/200\n",
            "372/372 [==============================] - 0s 1ms/step - loss: 4861373952.0000 - val_loss: 4663859712.0000\n",
            "Epoch 81/200\n",
            "372/372 [==============================] - 0s 1ms/step - loss: 4847474688.0000 - val_loss: 4650341888.0000\n",
            "Epoch 82/200\n",
            "372/372 [==============================] - 0s 1ms/step - loss: 4834484736.0000 - val_loss: 4637742080.0000\n",
            "Epoch 83/200\n",
            "372/372 [==============================] - 0s 1ms/step - loss: 4821682176.0000 - val_loss: 4625434624.0000\n",
            "Epoch 84/200\n",
            "372/372 [==============================] - 0s 1ms/step - loss: 4810032640.0000 - val_loss: 4613036544.0000\n",
            "Epoch 85/200\n",
            "372/372 [==============================] - 0s 1ms/step - loss: 4798128128.0000 - val_loss: 4601679872.0000\n",
            "Epoch 86/200\n",
            "372/372 [==============================] - 0s 1ms/step - loss: 4787386880.0000 - val_loss: 4590946304.0000\n",
            "Epoch 87/200\n",
            "372/372 [==============================] - 0s 1ms/step - loss: 4776574976.0000 - val_loss: 4581415424.0000\n",
            "Epoch 88/200\n",
            "372/372 [==============================] - 0s 1ms/step - loss: 4766768128.0000 - val_loss: 4570582016.0000\n",
            "Epoch 89/200\n",
            "372/372 [==============================] - 0s 1ms/step - loss: 4757320704.0000 - val_loss: 4561724928.0000\n",
            "Epoch 90/200\n",
            "372/372 [==============================] - 0s 1ms/step - loss: 4747717632.0000 - val_loss: 4553955840.0000\n",
            "Epoch 91/200\n",
            "372/372 [==============================] - 0s 1ms/step - loss: 4739738112.0000 - val_loss: 4543801344.0000\n",
            "Epoch 92/200\n",
            "372/372 [==============================] - 0s 1ms/step - loss: 4732356608.0000 - val_loss: 4536216576.0000\n",
            "Epoch 93/200\n",
            "372/372 [==============================] - 0s 1ms/step - loss: 4723904512.0000 - val_loss: 4528891904.0000\n",
            "Epoch 94/200\n",
            "372/372 [==============================] - 0s 1ms/step - loss: 4716111872.0000 - val_loss: 4520374784.0000\n",
            "Epoch 95/200\n",
            "372/372 [==============================] - 0s 1ms/step - loss: 4709041152.0000 - val_loss: 4514381824.0000\n",
            "Epoch 96/200\n",
            "372/372 [==============================] - 0s 1ms/step - loss: 4702107136.0000 - val_loss: 4505986048.0000\n",
            "Epoch 97/200\n",
            "372/372 [==============================] - 0s 1ms/step - loss: 4695839744.0000 - val_loss: 4500375040.0000\n",
            "Epoch 98/200\n",
            "372/372 [==============================] - 0s 1ms/step - loss: 4689706496.0000 - val_loss: 4493227520.0000\n",
            "Epoch 99/200\n",
            "372/372 [==============================] - 0s 1ms/step - loss: 4683022336.0000 - val_loss: 4486617600.0000\n",
            "Epoch 100/200\n",
            "372/372 [==============================] - 0s 1ms/step - loss: 4676816896.0000 - val_loss: 4481583616.0000\n",
            "Epoch 101/200\n",
            "372/372 [==============================] - 0s 1ms/step - loss: 4671091712.0000 - val_loss: 4476347904.0000\n",
            "Epoch 102/200\n",
            "372/372 [==============================] - 0s 1ms/step - loss: 4665300992.0000 - val_loss: 4469385728.0000\n",
            "Epoch 103/200\n",
            "372/372 [==============================] - 0s 1ms/step - loss: 4660423168.0000 - val_loss: 4463896576.0000\n",
            "Epoch 104/200\n",
            "372/372 [==============================] - 0s 1ms/step - loss: 4654843392.0000 - val_loss: 4459005952.0000\n",
            "Epoch 105/200\n",
            "372/372 [==============================] - 0s 1ms/step - loss: 4650146816.0000 - val_loss: 4453862912.0000\n",
            "Epoch 106/200\n",
            "372/372 [==============================] - 0s 1ms/step - loss: 4644452352.0000 - val_loss: 4448042496.0000\n",
            "Epoch 107/200\n",
            "372/372 [==============================] - 0s 1ms/step - loss: 4639509504.0000 - val_loss: 4443870208.0000\n",
            "Epoch 108/200\n",
            "372/372 [==============================] - 0s 1ms/step - loss: 4635366912.0000 - val_loss: 4438830592.0000\n",
            "Epoch 109/200\n",
            "372/372 [==============================] - 0s 1ms/step - loss: 4629246464.0000 - val_loss: 4433487360.0000\n",
            "Epoch 110/200\n",
            "372/372 [==============================] - 0s 1ms/step - loss: 4626450432.0000 - val_loss: 4429772800.0000\n",
            "Epoch 111/200\n",
            "372/372 [==============================] - 0s 1ms/step - loss: 4620845056.0000 - val_loss: 4427290112.0000\n",
            "Epoch 112/200\n",
            "372/372 [==============================] - 0s 1ms/step - loss: 4616588800.0000 - val_loss: 4421095424.0000\n",
            "Epoch 113/200\n",
            "372/372 [==============================] - 0s 1ms/step - loss: 4612880896.0000 - val_loss: 4417033216.0000\n",
            "Epoch 114/200\n",
            "372/372 [==============================] - 0s 1ms/step - loss: 4608468992.0000 - val_loss: 4413586432.0000\n",
            "Epoch 115/200\n",
            "372/372 [==============================] - 0s 1ms/step - loss: 4605022720.0000 - val_loss: 4408297472.0000\n",
            "Epoch 116/200\n",
            "372/372 [==============================] - 0s 1ms/step - loss: 4600189952.0000 - val_loss: 4405171200.0000\n",
            "Epoch 117/200\n",
            "372/372 [==============================] - 0s 1ms/step - loss: 4596531200.0000 - val_loss: 4401039872.0000\n",
            "Epoch 118/200\n",
            "372/372 [==============================] - 0s 1ms/step - loss: 4592671744.0000 - val_loss: 4397540352.0000\n",
            "Epoch 119/200\n",
            "372/372 [==============================] - 0s 1ms/step - loss: 4588746752.0000 - val_loss: 4393681408.0000\n",
            "Epoch 120/200\n",
            "372/372 [==============================] - 0s 1ms/step - loss: 4584838656.0000 - val_loss: 4391038976.0000\n",
            "Epoch 121/200\n",
            "372/372 [==============================] - 0s 1ms/step - loss: 4581694976.0000 - val_loss: 4386316800.0000\n",
            "Epoch 122/200\n",
            "372/372 [==============================] - 0s 1ms/step - loss: 4578150400.0000 - val_loss: 4383463936.0000\n",
            "Epoch 123/200\n",
            "372/372 [==============================] - 0s 1ms/step - loss: 4574194688.0000 - val_loss: 4379560448.0000\n",
            "Epoch 124/200\n",
            "372/372 [==============================] - 0s 1ms/step - loss: 4570911744.0000 - val_loss: 4375947776.0000\n",
            "Epoch 125/200\n",
            "372/372 [==============================] - 0s 1ms/step - loss: 4567845376.0000 - val_loss: 4373438976.0000\n",
            "Epoch 126/200\n",
            "372/372 [==============================] - 0s 1ms/step - loss: 4564189696.0000 - val_loss: 4370780160.0000\n",
            "Epoch 127/200\n",
            "372/372 [==============================] - 0s 1ms/step - loss: 4561159168.0000 - val_loss: 4367590912.0000\n",
            "Epoch 128/200\n",
            "372/372 [==============================] - 0s 1ms/step - loss: 4557811200.0000 - val_loss: 4363852288.0000\n",
            "Epoch 129/200\n",
            "372/372 [==============================] - 0s 1ms/step - loss: 4554548224.0000 - val_loss: 4360212992.0000\n",
            "Epoch 130/200\n",
            "372/372 [==============================] - 0s 1ms/step - loss: 4551057920.0000 - val_loss: 4357127680.0000\n",
            "Epoch 131/200\n",
            "372/372 [==============================] - 0s 1ms/step - loss: 4548372992.0000 - val_loss: 4354157056.0000\n",
            "Epoch 132/200\n",
            "372/372 [==============================] - 0s 1ms/step - loss: 4544996864.0000 - val_loss: 4351737856.0000\n",
            "Epoch 133/200\n",
            "372/372 [==============================] - 0s 1ms/step - loss: 4541550592.0000 - val_loss: 4347689472.0000\n",
            "Epoch 134/200\n",
            "372/372 [==============================] - 0s 1ms/step - loss: 4539440640.0000 - val_loss: 4344769024.0000\n",
            "Epoch 135/200\n",
            "372/372 [==============================] - 0s 1ms/step - loss: 4536148480.0000 - val_loss: 4341393920.0000\n",
            "Epoch 136/200\n",
            "372/372 [==============================] - 0s 1ms/step - loss: 4532529152.0000 - val_loss: 4338132480.0000\n",
            "Epoch 137/200\n",
            "372/372 [==============================] - 0s 1ms/step - loss: 4529419264.0000 - val_loss: 4336146944.0000\n",
            "Epoch 138/200\n",
            "372/372 [==============================] - 0s 1ms/step - loss: 4526818304.0000 - val_loss: 4332421120.0000\n",
            "Epoch 139/200\n",
            "372/372 [==============================] - 0s 1ms/step - loss: 4524174336.0000 - val_loss: 4330344960.0000\n",
            "Epoch 140/200\n",
            "372/372 [==============================] - 0s 1ms/step - loss: 4521262080.0000 - val_loss: 4327282176.0000\n",
            "Epoch 141/200\n",
            "372/372 [==============================] - 0s 1ms/step - loss: 4518422016.0000 - val_loss: 4323916288.0000\n",
            "Epoch 142/200\n",
            "372/372 [==============================] - 0s 1ms/step - loss: 4515406336.0000 - val_loss: 4324030976.0000\n",
            "Epoch 143/200\n",
            "372/372 [==============================] - 0s 1ms/step - loss: 4512706560.0000 - val_loss: 4319915008.0000\n",
            "Epoch 144/200\n",
            "372/372 [==============================] - 0s 1ms/step - loss: 4509856768.0000 - val_loss: 4316367872.0000\n",
            "Epoch 145/200\n",
            "372/372 [==============================] - 0s 1ms/step - loss: 4507263488.0000 - val_loss: 4313174528.0000\n",
            "Epoch 146/200\n",
            "372/372 [==============================] - 0s 1ms/step - loss: 4504633344.0000 - val_loss: 4310173696.0000\n",
            "Epoch 147/200\n",
            "372/372 [==============================] - 0s 1ms/step - loss: 4501699584.0000 - val_loss: 4307903488.0000\n",
            "Epoch 148/200\n",
            "372/372 [==============================] - 0s 1ms/step - loss: 4499254272.0000 - val_loss: 4306424832.0000\n",
            "Epoch 149/200\n",
            "372/372 [==============================] - 0s 1ms/step - loss: 4496712704.0000 - val_loss: 4304599040.0000\n",
            "Epoch 150/200\n",
            "372/372 [==============================] - 0s 1ms/step - loss: 4494266880.0000 - val_loss: 4300901888.0000\n",
            "Epoch 151/200\n",
            "372/372 [==============================] - 0s 1ms/step - loss: 4491869184.0000 - val_loss: 4299065344.0000\n",
            "Epoch 152/200\n",
            "372/372 [==============================] - 0s 1ms/step - loss: 4489384448.0000 - val_loss: 4295312896.0000\n",
            "Epoch 153/200\n",
            "372/372 [==============================] - 0s 1ms/step - loss: 4487505920.0000 - val_loss: 4293530624.0000\n",
            "Epoch 154/200\n",
            "372/372 [==============================] - 0s 1ms/step - loss: 4484251648.0000 - val_loss: 4292519680.0000\n",
            "Epoch 155/200\n",
            "372/372 [==============================] - 0s 1ms/step - loss: 4482236416.0000 - val_loss: 4290699264.0000\n",
            "Epoch 156/200\n",
            "372/372 [==============================] - 0s 1ms/step - loss: 4479660032.0000 - val_loss: 4287684096.0000\n",
            "Epoch 157/200\n",
            "372/372 [==============================] - 0s 1ms/step - loss: 4477656576.0000 - val_loss: 4285503744.0000\n",
            "Epoch 158/200\n",
            "372/372 [==============================] - 0s 1ms/step - loss: 4475064832.0000 - val_loss: 4282705664.0000\n",
            "Epoch 159/200\n",
            "372/372 [==============================] - 0s 1ms/step - loss: 4473135104.0000 - val_loss: 4280126464.0000\n",
            "Epoch 160/200\n",
            "372/372 [==============================] - 0s 1ms/step - loss: 4471163904.0000 - val_loss: 4278615296.0000\n",
            "Epoch 161/200\n",
            "372/372 [==============================] - 0s 1ms/step - loss: 4468355072.0000 - val_loss: 4276621824.0000\n",
            "Epoch 162/200\n",
            "372/372 [==============================] - 0s 1ms/step - loss: 4466511872.0000 - val_loss: 4275022080.0000\n",
            "Epoch 163/200\n",
            "372/372 [==============================] - 0s 1ms/step - loss: 4464390144.0000 - val_loss: 4273640448.0000\n",
            "Epoch 164/200\n",
            "372/372 [==============================] - 0s 1ms/step - loss: 4462760448.0000 - val_loss: 4270708480.0000\n",
            "Epoch 165/200\n",
            "372/372 [==============================] - 0s 1ms/step - loss: 4460827136.0000 - val_loss: 4268682496.0000\n",
            "Epoch 166/200\n",
            "372/372 [==============================] - 0s 1ms/step - loss: 4458465792.0000 - val_loss: 4267127040.0000\n",
            "Epoch 167/200\n",
            "372/372 [==============================] - 0s 1ms/step - loss: 4456589312.0000 - val_loss: 4265392896.0000\n",
            "Epoch 168/200\n",
            "372/372 [==============================] - 0s 1ms/step - loss: 4454858240.0000 - val_loss: 4263438848.0000\n",
            "Epoch 169/200\n",
            "372/372 [==============================] - 0s 1ms/step - loss: 4452948992.0000 - val_loss: 4261155328.0000\n",
            "Epoch 170/200\n",
            "372/372 [==============================] - 0s 1ms/step - loss: 4450984960.0000 - val_loss: 4260047616.0000\n",
            "Epoch 171/200\n",
            "372/372 [==============================] - 0s 1ms/step - loss: 4448479232.0000 - val_loss: 4256927744.0000\n",
            "Epoch 172/200\n",
            "372/372 [==============================] - 0s 1ms/step - loss: 4447405056.0000 - val_loss: 4255681536.0000\n",
            "Epoch 173/200\n",
            "372/372 [==============================] - 0s 1ms/step - loss: 4445628928.0000 - val_loss: 4253711360.0000\n",
            "Epoch 174/200\n",
            "372/372 [==============================] - 0s 1ms/step - loss: 4443771904.0000 - val_loss: 4252177664.0000\n",
            "Epoch 175/200\n",
            "372/372 [==============================] - 0s 1ms/step - loss: 4441472000.0000 - val_loss: 4251608576.0000\n",
            "Epoch 176/200\n",
            "372/372 [==============================] - 0s 1ms/step - loss: 4440257024.0000 - val_loss: 4250501120.0000\n",
            "Epoch 177/200\n",
            "372/372 [==============================] - 0s 1ms/step - loss: 4438302208.0000 - val_loss: 4246695424.0000\n",
            "Epoch 178/200\n",
            "372/372 [==============================] - 0s 1ms/step - loss: 4436283392.0000 - val_loss: 4245868032.0000\n",
            "Epoch 179/200\n",
            "372/372 [==============================] - 0s 1ms/step - loss: 4434281472.0000 - val_loss: 4245624064.0000\n",
            "Epoch 180/200\n",
            "372/372 [==============================] - 0s 1ms/step - loss: 4432436224.0000 - val_loss: 4242918912.0000\n",
            "Epoch 181/200\n",
            "372/372 [==============================] - 0s 1ms/step - loss: 4430653440.0000 - val_loss: 4241285120.0000\n",
            "Epoch 182/200\n",
            "372/372 [==============================] - 0s 1ms/step - loss: 4428707328.0000 - val_loss: 4239480320.0000\n",
            "Epoch 183/200\n",
            "372/372 [==============================] - 0s 1ms/step - loss: 4426883584.0000 - val_loss: 4237046528.0000\n",
            "Epoch 184/200\n",
            "372/372 [==============================] - 0s 1ms/step - loss: 4424711680.0000 - val_loss: 4236390912.0000\n",
            "Epoch 185/200\n",
            "372/372 [==============================] - 0s 1ms/step - loss: 4423143936.0000 - val_loss: 4233226752.0000\n",
            "Epoch 186/200\n",
            "372/372 [==============================] - 0s 1ms/step - loss: 4420783616.0000 - val_loss: 4231095552.0000\n",
            "Epoch 187/200\n",
            "372/372 [==============================] - 0s 1ms/step - loss: 4419909120.0000 - val_loss: 4231312128.0000\n",
            "Epoch 188/200\n",
            "372/372 [==============================] - 0s 1ms/step - loss: 4417805312.0000 - val_loss: 4228098560.0000\n",
            "Epoch 189/200\n",
            "372/372 [==============================] - 0s 1ms/step - loss: 4415672832.0000 - val_loss: 4226171648.0000\n",
            "Epoch 190/200\n",
            "372/372 [==============================] - 0s 1ms/step - loss: 4414288896.0000 - val_loss: 4225449984.0000\n",
            "Epoch 191/200\n",
            "372/372 [==============================] - 0s 1ms/step - loss: 4412855296.0000 - val_loss: 4224802048.0000\n",
            "Epoch 192/200\n",
            "372/372 [==============================] - 0s 1ms/step - loss: 4410042880.0000 - val_loss: 4221543936.0000\n",
            "Epoch 193/200\n",
            "372/372 [==============================] - 0s 1ms/step - loss: 4408778752.0000 - val_loss: 4219844096.0000\n",
            "Epoch 194/200\n",
            "372/372 [==============================] - 0s 1ms/step - loss: 4406879744.0000 - val_loss: 4218798336.0000\n",
            "Epoch 195/200\n",
            "372/372 [==============================] - 0s 1ms/step - loss: 4405648896.0000 - val_loss: 4217169152.0000\n",
            "Epoch 196/200\n",
            "372/372 [==============================] - 0s 1ms/step - loss: 4403371008.0000 - val_loss: 4215780864.0000\n",
            "Epoch 197/200\n",
            "372/372 [==============================] - 0s 1ms/step - loss: 4401563136.0000 - val_loss: 4214992896.0000\n",
            "Epoch 198/200\n",
            "372/372 [==============================] - 0s 1ms/step - loss: 4399915008.0000 - val_loss: 4212953856.0000\n",
            "Epoch 199/200\n",
            "372/372 [==============================] - 0s 1ms/step - loss: 4397741056.0000 - val_loss: 4213912832.0000\n",
            "Epoch 200/200\n",
            "372/372 [==============================] - 0s 1ms/step - loss: 4396585984.0000 - val_loss: 4210429440.0000\n"
          ],
          "name": "stdout"
        }
      ]
    },
    {
      "cell_type": "code",
      "metadata": {
        "id": "3bvfZab2MRuR",
        "colab_type": "code",
        "colab": {
          "base_uri": "https://localhost:8080/",
          "height": 276
        },
        "outputId": "0a598f6a-2e17-4d19-8de7-93326eda5eb9"
      },
      "source": [
        "train_acc = seq_model.evaluate(x_train, y_train, verbose=0)\n",
        "test_acc = seq_model.evaluate(x_test, y_test, verbose=0)\n",
        "# plot training history\n",
        "plt.plot(history.history['loss'], label='train')\n",
        "plt.plot(history.history['val_loss'], label='test')\n",
        "plt.legend()\n",
        "plt.show()\n",
        "# Initial epochs have major drop in loss after the graph elbow point, not much \n",
        "# loss is reduced.\n",
        "# Optimum epochs recommended based on this observation is 100"
      ],
      "execution_count": 64,
      "outputs": [
        {
          "output_type": "display_data",
          "data": {
            "image/png": "[encoded data removed]",
            "text/plain": [
              "<Figure size 432x288 with 1 Axes>"
            ]
          },
          "metadata": {
            "tags": [],
            "needs_background": "light"
          }
        }
      ]
    },
    {
      "cell_type": "markdown",
      "metadata": {
        "id": "8-l3LbrM63cQ",
        "colab_type": "text"
      },
      "source": [
        "### Prediction"
      ]
    },
    {
      "cell_type": "code",
      "metadata": {
        "id": "i-nq-uqH1jaR",
        "colab_type": "code",
        "colab": {}
      },
      "source": [
        "predictions = seq_model.predict(x_test)"
      ],
      "execution_count": 65,
      "outputs": []
    },
    {
      "cell_type": "code",
      "metadata": {
        "id": "55qn1b5831S5",
        "colab_type": "code",
        "colab": {
          "base_uri": "https://localhost:8080/",
          "height": 34
        },
        "outputId": "a778ab22-3831-4ddb-e669-907bac9d67cf"
      },
      "source": [
        "from sklearn.metrics import mean_squared_error,mean_absolute_error\n",
        "mean_absolute_error(y_test,predictions)\n",
        "#Previous best - 58785.43664368873"
      ],
      "execution_count": 66,
      "outputs": [
        {
          "output_type": "execute_result",
          "data": {
            "text/plain": [
              "46626.89350921033"
            ]
          },
          "metadata": {
            "tags": []
          },
          "execution_count": 66
        }
      ]
    },
    {
      "cell_type": "code",
      "metadata": {
        "id": "FEuEUIt_FmT4",
        "colab_type": "code",
        "colab": {}
      },
      "source": [
        "actual = pd.DataFrame(y_test)"
      ],
      "execution_count": 67,
      "outputs": []
    },
    {
      "cell_type": "code",
      "metadata": {
        "id": "F9fDm2ISf8_4",
        "colab_type": "code",
        "colab": {}
      },
      "source": [
        " pred_y = predictions.reshape((5100,))\n",
        " error = y_test - pred_y"
      ],
      "execution_count": 88,
      "outputs": []
    },
    {
      "cell_type": "code",
      "metadata": {
        "id": "X6MtXoH69E2q",
        "colab_type": "code",
        "colab": {
          "base_uri": "https://localhost:8080/",
          "height": 441
        },
        "outputId": "39e23402-71b9-4e27-e871-771b4e8625f8"
      },
      "source": [
        "plt.figure(figsize=(20,10))\n",
        "plt.subplot(1,2,1)\n",
        "plt.hist(y_test,bins=6)\n",
        "plt.title = 'Test Value'\n",
        "plt.subplot(1,2,2)\n",
        "plt.hist(pred_y,bins=6)\n",
        "plt.title = 'Predicted'"
      ],
      "execution_count": 100,
      "outputs": [
        {
          "output_type": "display_data",
          "data": {
            "image/png": "[encoded data removed]",
            "text/plain": [
              "<Figure size 1440x720 with 2 Axes>"
            ]
          },
          "metadata": {
            "tags": [],
            "needs_background": "light"
          }
        }
      ]
    },
    {
      "cell_type": "code",
      "metadata": {
        "id": "vp1sSW109RGy",
        "colab_type": "code",
        "colab": {}
      },
      "source": [
        ""
      ],
      "execution_count": null,
      "outputs": []
    }
  ]
}